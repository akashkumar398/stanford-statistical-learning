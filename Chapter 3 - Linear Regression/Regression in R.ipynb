{
 "cells": [
  {
   "cell_type": "code",
   "execution_count": 21,
   "metadata": {},
   "outputs": [],
   "source": [
    "library(MASS)\n",
    "library(ISLR)\n",
    "library(repr)\n",
    "\n",
    "options(repr.plot.width=4, repr.plot.height=4, jupyter.plot_mimetypes = \"image/png\") "
   ]
  },
  {
   "cell_type": "markdown",
   "metadata": {},
   "source": [
    "# Simple linear regression"
   ]
  },
  {
   "cell_type": "code",
   "execution_count": 22,
   "metadata": {},
   "outputs": [
    {
     "data": {
      "text/html": [
       "<ol class=list-inline>\n",
       "\t<li>'crim'</li>\n",
       "\t<li>'zn'</li>\n",
       "\t<li>'indus'</li>\n",
       "\t<li>'chas'</li>\n",
       "\t<li>'nox'</li>\n",
       "\t<li>'rm'</li>\n",
       "\t<li>'age'</li>\n",
       "\t<li>'dis'</li>\n",
       "\t<li>'rad'</li>\n",
       "\t<li>'tax'</li>\n",
       "\t<li>'ptratio'</li>\n",
       "\t<li>'black'</li>\n",
       "\t<li>'lstat'</li>\n",
       "\t<li>'medv'</li>\n",
       "</ol>\n"
      ],
      "text/latex": [
       "\\begin{enumerate*}\n",
       "\\item 'crim'\n",
       "\\item 'zn'\n",
       "\\item 'indus'\n",
       "\\item 'chas'\n",
       "\\item 'nox'\n",
       "\\item 'rm'\n",
       "\\item 'age'\n",
       "\\item 'dis'\n",
       "\\item 'rad'\n",
       "\\item 'tax'\n",
       "\\item 'ptratio'\n",
       "\\item 'black'\n",
       "\\item 'lstat'\n",
       "\\item 'medv'\n",
       "\\end{enumerate*}\n"
      ],
      "text/markdown": [
       "1. 'crim'\n",
       "2. 'zn'\n",
       "3. 'indus'\n",
       "4. 'chas'\n",
       "5. 'nox'\n",
       "6. 'rm'\n",
       "7. 'age'\n",
       "8. 'dis'\n",
       "9. 'rad'\n",
       "10. 'tax'\n",
       "11. 'ptratio'\n",
       "12. 'black'\n",
       "13. 'lstat'\n",
       "14. 'medv'\n",
       "\n",
       "\n"
      ],
      "text/plain": [
       " [1] \"crim\"    \"zn\"      \"indus\"   \"chas\"    \"nox\"     \"rm\"      \"age\"    \n",
       " [8] \"dis\"     \"rad\"     \"tax\"     \"ptratio\" \"black\"   \"lstat\"   \"medv\"   "
      ]
     },
     "metadata": {},
     "output_type": "display_data"
    }
   ],
   "source": [
    "names(Boston)"
   ]
  },
  {
   "cell_type": "code",
   "execution_count": 23,
   "metadata": {},
   "outputs": [],
   "source": [
    "?Boston"
   ]
  },
  {
   "cell_type": "code",
   "execution_count": 24,
   "metadata": {},
   "outputs": [
    {
     "data": {
      "image/png": "[encoded data removed]"
     },
     "metadata": {},
     "output_type": "display_data"
    }
   ],
   "source": [
    "plot(medv~lstat, Boston)"
   ]
  },
  {
   "cell_type": "code",
   "execution_count": 25,
   "metadata": {},
   "outputs": [
    {
     "data": {
      "text/plain": [
       "\n",
       "Call:\n",
       "lm(formula = medv ~ lstat, data = Boston)\n",
       "\n",
       "Coefficients:\n",
       "(Intercept)        lstat  \n",
       "      34.55        -0.95  \n"
      ]
     },
     "metadata": {},
     "output_type": "display_data"
    }
   ],
   "source": [
    "fit1=lm(medv~lstat,data=Boston)\n",
    "fit1"
   ]
  },
  {
   "cell_type": "code",
   "execution_count": 26,
   "metadata": {},
   "outputs": [
    {
     "data": {
      "text/plain": [
       "\n",
       "Call:\n",
       "lm(formula = medv ~ lstat, data = Boston)\n",
       "\n",
       "Residuals:\n",
       "    Min      1Q  Median      3Q     Max \n",
       "-15.168  -3.990  -1.318   2.034  24.500 \n",
       "\n",
       "Coefficients:\n",
       "            Estimate Std. Error t value Pr(>|t|)    \n",
       "(Intercept) 34.55384    0.56263   61.41   <2e-16 ***\n",
       "lstat       -0.95005    0.03873  -24.53   <2e-16 ***\n",
       "---\n",
       "Signif. codes:  0 '***' 0.001 '**' 0.01 '*' 0.05 '.' 0.1 ' ' 1\n",
       "\n",
       "Residual standard error: 6.216 on 504 degrees of freedom\n",
       "Multiple R-squared:  0.5441,\tAdjusted R-squared:  0.5432 \n",
       "F-statistic: 601.6 on 1 and 504 DF,  p-value: < 2.2e-16\n"
      ]
     },
     "metadata": {},
     "output_type": "display_data"
    }
   ],
   "source": [
    "summary(fit1)"
   ]
  },
  {
   "cell_type": "code",
   "execution_count": 28,
   "metadata": {},
   "outputs": [
    {
     "data": {
      "image/png": "[encoded data removed]"
     },
     "metadata": {},
     "output_type": "display_data"
    }
   ],
   "source": [
    "plot(medv~lstat, Boston)\n",
    "abline(fit1,col=\"red\")"
   ]
  },
  {
   "cell_type": "code",
   "execution_count": 29,
   "metadata": {},
   "outputs": [
    {
     "data": {
      "text/html": [
       "<ol class=list-inline>\n",
       "\t<li>'coefficients'</li>\n",
       "\t<li>'residuals'</li>\n",
       "\t<li>'effects'</li>\n",
       "\t<li>'rank'</li>\n",
       "\t<li>'fitted.values'</li>\n",
       "\t<li>'assign'</li>\n",
       "\t<li>'qr'</li>\n",
       "\t<li>'df.residual'</li>\n",
       "\t<li>'xlevels'</li>\n",
       "\t<li>'call'</li>\n",
       "\t<li>'terms'</li>\n",
       "\t<li>'model'</li>\n",
       "</ol>\n"
      ],
      "text/latex": [
       "\\begin{enumerate*}\n",
       "\\item 'coefficients'\n",
       "\\item 'residuals'\n",
       "\\item 'effects'\n",
       "\\item 'rank'\n",
       "\\item 'fitted.values'\n",
       "\\item 'assign'\n",
       "\\item 'qr'\n",
       "\\item 'df.residual'\n",
       "\\item 'xlevels'\n",
       "\\item 'call'\n",
       "\\item 'terms'\n",
       "\\item 'model'\n",
       "\\end{enumerate*}\n"
      ],
      "text/markdown": [
       "1. 'coefficients'\n",
       "2. 'residuals'\n",
       "3. 'effects'\n",
       "4. 'rank'\n",
       "5. 'fitted.values'\n",
       "6. 'assign'\n",
       "7. 'qr'\n",
       "8. 'df.residual'\n",
       "9. 'xlevels'\n",
       "10. 'call'\n",
       "11. 'terms'\n",
       "12. 'model'\n",
       "\n",
       "\n"
      ],
      "text/plain": [
       " [1] \"coefficients\"  \"residuals\"     \"effects\"       \"rank\"         \n",
       " [5] \"fitted.values\" \"assign\"        \"qr\"            \"df.residual\"  \n",
       " [9] \"xlevels\"       \"call\"          \"terms\"         \"model\"        "
      ]
     },
     "metadata": {},
     "output_type": "display_data"
    }
   ],
   "source": [
    "names(fit1)"
   ]
  },
  {
   "cell_type": "code",
   "execution_count": 30,
   "metadata": {},
   "outputs": [
    {
     "data": {
      "text/html": [
       "<table>\n",
       "<thead><tr><th></th><th scope=col>2.5 %</th><th scope=col>97.5 %</th></tr></thead>\n",
       "<tbody>\n",
       "\t<tr><th scope=row>(Intercept)</th><td>33.448457 </td><td>35.6592247</td></tr>\n",
       "\t<tr><th scope=row>lstat</th><td>-1.026148 </td><td>-0.8739505</td></tr>\n",
       "</tbody>\n",
       "</table>\n"
      ],
      "text/latex": [
       "\\begin{tabular}{r|ll}\n",
       "  & 2.5 \\% & 97.5 \\%\\\\\n",
       "\\hline\n",
       "\t(Intercept) & 33.448457  & 35.6592247\\\\\n",
       "\tlstat & -1.026148  & -0.8739505\\\\\n",
       "\\end{tabular}\n"
      ],
      "text/markdown": [
       "\n",
       "| <!--/--> | 2.5 % | 97.5 % | \n",
       "|---|---|\n",
       "| (Intercept) | 33.448457  | 35.6592247 | \n",
       "| lstat | -1.026148  | -0.8739505 | \n",
       "\n",
       "\n"
      ],
      "text/plain": [
       "            2.5 %     97.5 %    \n",
       "(Intercept) 33.448457 35.6592247\n",
       "lstat       -1.026148 -0.8739505"
      ]
     },
     "metadata": {},
     "output_type": "display_data"
    }
   ],
   "source": [
    "confint(fit1)"
   ]
  },
  {
   "cell_type": "code",
   "execution_count": 31,
   "metadata": {},
   "outputs": [
    {
     "data": {
      "text/html": [
       "<table>\n",
       "<thead><tr><th></th><th scope=col>fit</th><th scope=col>lwr</th><th scope=col>upr</th></tr></thead>\n",
       "<tbody>\n",
       "\t<tr><th scope=row>1</th><td>29.80359</td><td>29.00741</td><td>30.59978</td></tr>\n",
       "\t<tr><th scope=row>2</th><td>25.05335</td><td>24.47413</td><td>25.63256</td></tr>\n",
       "\t<tr><th scope=row>3</th><td>20.30310</td><td>19.73159</td><td>20.87461</td></tr>\n",
       "</tbody>\n",
       "</table>\n"
      ],
      "text/latex": [
       "\\begin{tabular}{r|lll}\n",
       "  & fit & lwr & upr\\\\\n",
       "\\hline\n",
       "\t1 & 29.80359 & 29.00741 & 30.59978\\\\\n",
       "\t2 & 25.05335 & 24.47413 & 25.63256\\\\\n",
       "\t3 & 20.30310 & 19.73159 & 20.87461\\\\\n",
       "\\end{tabular}\n"
      ],
      "text/markdown": [
       "\n",
       "| <!--/--> | fit | lwr | upr | \n",
       "|---|---|---|\n",
       "| 1 | 29.80359 | 29.00741 | 30.59978 | \n",
       "| 2 | 25.05335 | 24.47413 | 25.63256 | \n",
       "| 3 | 20.30310 | 19.73159 | 20.87461 | \n",
       "\n",
       "\n"
      ],
      "text/plain": [
       "  fit      lwr      upr     \n",
       "1 29.80359 29.00741 30.59978\n",
       "2 25.05335 24.47413 25.63256\n",
       "3 20.30310 19.73159 20.87461"
      ]
     },
     "metadata": {},
     "output_type": "display_data"
    }
   ],
   "source": [
    "predict(fit1,data.frame(lstat=c(5,10,15)),interval=\"confidence\")"
   ]
  },
  {
   "cell_type": "markdown",
   "metadata": {},
   "source": [
    "# Multiple linear regression"
   ]
  },
  {
   "cell_type": "code",
   "execution_count": 33,
   "metadata": {},
   "outputs": [],
   "source": [
    "fit2=lm(medv~lstat+age,data=Boston)"
   ]
  },
  {
   "cell_type": "code",
   "execution_count": 34,
   "metadata": {},
   "outputs": [
    {
     "data": {
      "text/plain": [
       "\n",
       "Call:\n",
       "lm(formula = medv ~ lstat + age, data = Boston)\n",
       "\n",
       "Residuals:\n",
       "    Min      1Q  Median      3Q     Max \n",
       "-15.981  -3.978  -1.283   1.968  23.158 \n",
       "\n",
       "Coefficients:\n",
       "            Estimate Std. Error t value Pr(>|t|)    \n",
       "(Intercept) 33.22276    0.73085  45.458  < 2e-16 ***\n",
       "lstat       -1.03207    0.04819 -21.416  < 2e-16 ***\n",
       "age          0.03454    0.01223   2.826  0.00491 ** \n",
       "---\n",
       "Signif. codes:  0 '***' 0.001 '**' 0.01 '*' 0.05 '.' 0.1 ' ' 1\n",
       "\n",
       "Residual standard error: 6.173 on 503 degrees of freedom\n",
       "Multiple R-squared:  0.5513,\tAdjusted R-squared:  0.5495 \n",
       "F-statistic:   309 on 2 and 503 DF,  p-value: < 2.2e-16\n"
      ]
     },
     "metadata": {},
     "output_type": "display_data"
    }
   ],
   "source": [
    "summary(fit2)"
   ]
  },
  {
   "cell_type": "code",
   "execution_count": 35,
   "metadata": {},
   "outputs": [],
   "source": [
    "fit3=lm(medv~.,Boston)"
   ]
  },
  {
   "cell_type": "code",
   "execution_count": 36,
   "metadata": {},
   "outputs": [
    {
     "data": {
      "text/plain": [
       "\n",
       "Call:\n",
       "lm(formula = medv ~ ., data = Boston)\n",
       "\n",
       "Residuals:\n",
       "    Min      1Q  Median      3Q     Max \n",
       "-15.595  -2.730  -0.518   1.777  26.199 \n",
       "\n",
       "Coefficients:\n",
       "              Estimate Std. Error t value Pr(>|t|)    \n",
       "(Intercept)  3.646e+01  5.103e+00   7.144 3.28e-12 ***\n",
       "crim        -1.080e-01  3.286e-02  -3.287 0.001087 ** \n",
       "zn           4.642e-02  1.373e-02   3.382 0.000778 ***\n",
       "indus        2.056e-02  6.150e-02   0.334 0.738288    \n",
       "chas         2.687e+00  8.616e-01   3.118 0.001925 ** \n",
       "nox         -1.777e+01  3.820e+00  -4.651 4.25e-06 ***\n",
       "rm           3.810e+00  4.179e-01   9.116  < 2e-16 ***\n",
       "age          6.922e-04  1.321e-02   0.052 0.958229    \n",
       "dis         -1.476e+00  1.995e-01  -7.398 6.01e-13 ***\n",
       "rad          3.060e-01  6.635e-02   4.613 5.07e-06 ***\n",
       "tax         -1.233e-02  3.760e-03  -3.280 0.001112 ** \n",
       "ptratio     -9.527e-01  1.308e-01  -7.283 1.31e-12 ***\n",
       "black        9.312e-03  2.686e-03   3.467 0.000573 ***\n",
       "lstat       -5.248e-01  5.072e-02 -10.347  < 2e-16 ***\n",
       "---\n",
       "Signif. codes:  0 '***' 0.001 '**' 0.01 '*' 0.05 '.' 0.1 ' ' 1\n",
       "\n",
       "Residual standard error: 4.745 on 492 degrees of freedom\n",
       "Multiple R-squared:  0.7406,\tAdjusted R-squared:  0.7338 \n",
       "F-statistic: 108.1 on 13 and 492 DF,  p-value: < 2.2e-16\n"
      ]
     },
     "metadata": {},
     "output_type": "display_data"
    }
   ],
   "source": [
    "summary(fit3)"
   ]
  },
  {
   "cell_type": "code",
   "execution_count": 38,
   "metadata": {},
   "outputs": [
    {
     "data": {
      "image/png": "[encoded data removed]"
     },
     "metadata": {},
     "output_type": "display_data"
    }
   ],
   "source": [
    "options(repr.plot.width=6, repr.plot.height=6, jupyter.plot_mimetypes = \"image/png\") \n",
    "par(mfrow=c(2,2))\n",
    "plot(fit3)\n",
    "options(repr.plot.width=4, repr.plot.height=4, jupyter.plot_mimetypes = \"image/png\") "
   ]
  },
  {
   "cell_type": "code",
   "execution_count": 39,
   "metadata": {},
   "outputs": [
    {
     "data": {
      "text/plain": [
       "\n",
       "Call:\n",
       "lm(formula = medv ~ crim + zn + chas + nox + rm + dis + rad + \n",
       "    tax + ptratio + black + lstat, data = Boston)\n",
       "\n",
       "Residuals:\n",
       "     Min       1Q   Median       3Q      Max \n",
       "-15.5984  -2.7386  -0.5046   1.7273  26.2373 \n",
       "\n",
       "Coefficients:\n",
       "              Estimate Std. Error t value Pr(>|t|)    \n",
       "(Intercept)  36.341145   5.067492   7.171 2.73e-12 ***\n",
       "crim         -0.108413   0.032779  -3.307 0.001010 ** \n",
       "zn            0.045845   0.013523   3.390 0.000754 ***\n",
       "chas          2.718716   0.854240   3.183 0.001551 ** \n",
       "nox         -17.376023   3.535243  -4.915 1.21e-06 ***\n",
       "rm            3.801579   0.406316   9.356  < 2e-16 ***\n",
       "dis          -1.492711   0.185731  -8.037 6.84e-15 ***\n",
       "rad           0.299608   0.063402   4.726 3.00e-06 ***\n",
       "tax          -0.011778   0.003372  -3.493 0.000521 ***\n",
       "ptratio      -0.946525   0.129066  -7.334 9.24e-13 ***\n",
       "black         0.009291   0.002674   3.475 0.000557 ***\n",
       "lstat        -0.522553   0.047424 -11.019  < 2e-16 ***\n",
       "---\n",
       "Signif. codes:  0 '***' 0.001 '**' 0.01 '*' 0.05 '.' 0.1 ' ' 1\n",
       "\n",
       "Residual standard error: 4.736 on 494 degrees of freedom\n",
       "Multiple R-squared:  0.7406,\tAdjusted R-squared:  0.7348 \n",
       "F-statistic: 128.2 on 11 and 494 DF,  p-value: < 2.2e-16\n"
      ]
     },
     "metadata": {},
     "output_type": "display_data"
    }
   ],
   "source": [
    "fit4=update(fit3,~.-age-indus)\n",
    "summary(fit4)"
   ]
  },
  {
   "cell_type": "markdown",
   "metadata": {},
   "source": [
    "# Nonlinear terms and Interactions"
   ]
  },
  {
   "cell_type": "code",
   "execution_count": 40,
   "metadata": {},
   "outputs": [
    {
     "data": {
      "text/plain": [
       "\n",
       "Call:\n",
       "lm(formula = medv ~ lstat * age, data = Boston)\n",
       "\n",
       "Residuals:\n",
       "    Min      1Q  Median      3Q     Max \n",
       "-15.806  -4.045  -1.333   2.085  27.552 \n",
       "\n",
       "Coefficients:\n",
       "              Estimate Std. Error t value Pr(>|t|)    \n",
       "(Intercept) 36.0885359  1.4698355  24.553  < 2e-16 ***\n",
       "lstat       -1.3921168  0.1674555  -8.313 8.78e-16 ***\n",
       "age         -0.0007209  0.0198792  -0.036   0.9711    \n",
       "lstat:age    0.0041560  0.0018518   2.244   0.0252 *  \n",
       "---\n",
       "Signif. codes:  0 '***' 0.001 '**' 0.01 '*' 0.05 '.' 0.1 ' ' 1\n",
       "\n",
       "Residual standard error: 6.149 on 502 degrees of freedom\n",
       "Multiple R-squared:  0.5557,\tAdjusted R-squared:  0.5531 \n",
       "F-statistic: 209.3 on 3 and 502 DF,  p-value: < 2.2e-16\n"
      ]
     },
     "metadata": {},
     "output_type": "display_data"
    }
   ],
   "source": [
    "fit5=lm(medv~lstat*age,Boston)\n",
    "summary(fit5)"
   ]
  },
  {
   "cell_type": "code",
   "execution_count": 44,
   "metadata": {},
   "outputs": [
    {
     "data": {
      "text/plain": [
       "\n",
       "Call:\n",
       "lm(formula = medv ~ lstat + I(lstat^2), data = Boston)\n",
       "\n",
       "Residuals:\n",
       "     Min       1Q   Median       3Q      Max \n",
       "-15.2834  -3.8313  -0.5295   2.3095  25.4148 \n",
       "\n",
       "Coefficients:\n",
       "             Estimate Std. Error t value Pr(>|t|)    \n",
       "(Intercept) 42.862007   0.872084   49.15   <2e-16 ***\n",
       "lstat       -2.332821   0.123803  -18.84   <2e-16 ***\n",
       "I(lstat^2)   0.043547   0.003745   11.63   <2e-16 ***\n",
       "---\n",
       "Signif. codes:  0 '***' 0.001 '**' 0.01 '*' 0.05 '.' 0.1 ' ' 1\n",
       "\n",
       "Residual standard error: 5.524 on 503 degrees of freedom\n",
       "Multiple R-squared:  0.6407,\tAdjusted R-squared:  0.6393 \n",
       "F-statistic: 448.5 on 2 and 503 DF,  p-value: < 2.2e-16\n"
      ]
     },
     "metadata": {},
     "output_type": "display_data"
    }
   ],
   "source": [
    "fit6=lm(medv~lstat +I(lstat^2),Boston)\n",
    "summary(fit6)"
   ]
  },
  {
   "cell_type": "code",
   "execution_count": 45,
   "metadata": {},
   "outputs": [],
   "source": [
    "attach(Boston)"
   ]
  },
  {
   "cell_type": "code",
   "execution_count": 47,
   "metadata": {},
   "outputs": [
    {
     "data": {
      "image/png": "[encoded data removed]"
     },
     "metadata": {},
     "output_type": "display_data"
    }
   ],
   "source": [
    "par(mfrow=c(1,1))\n",
    "plot(medv~lstat)\n",
    "points(lstat,fitted(fit6),col=\"red\",pch=20)"
   ]
  },
  {
   "cell_type": "code",
   "execution_count": 48,
   "metadata": {},
   "outputs": [],
   "source": [
    "fit7=lm(medv~poly(lstat,4))"
   ]
  },
  {
   "cell_type": "code",
   "execution_count": 50,
   "metadata": {},
   "outputs": [
    {
     "data": {
      "image/png": "[encoded data removed]"
     },
     "metadata": {},
     "output_type": "display_data"
    }
   ],
   "source": [
    "plot(medv~lstat)\n",
    "points(lstat,fitted(fit6),col=\"red\",pch=20)\n",
    "points(lstat,fitted(fit7),col=\"blue\",pch=20)"
   ]
  },
  {
   "cell_type": "code",
   "execution_count": 51,
   "metadata": {},
   "outputs": [
    {
     "data": {
      "image/png": "[encoded data removed]"
     },
     "metadata": {},
     "output_type": "display_data"
    }
   ],
   "source": [
    "plot(1:20,1:20,pch=1:20,cex=2)"
   ]
  },
  {
   "cell_type": "markdown",
   "metadata": {},
   "source": [
    "# Qualitative predictors"
   ]
  },
  {
   "cell_type": "code",
   "execution_count": 52,
   "metadata": {},
   "outputs": [],
   "source": [
    "fix(Carseats)"
   ]
  },
  {
   "cell_type": "code",
   "execution_count": 53,
   "metadata": {},
   "outputs": [
    {
     "data": {
      "text/html": [
       "<table>\n",
       "<thead><tr><th scope=col>Sales</th><th scope=col>CompPrice</th><th scope=col>Income</th><th scope=col>Advertising</th><th scope=col>Population</th><th scope=col>Price</th><th scope=col>ShelveLoc</th><th scope=col>Age</th><th scope=col>Education</th><th scope=col>Urban</th><th scope=col>US</th></tr></thead>\n",
       "<tbody>\n",
       "\t<tr><td> 9.50 </td><td>138   </td><td> 73   </td><td>11    </td><td>276   </td><td>120   </td><td>Bad   </td><td>42    </td><td>17    </td><td>Yes   </td><td>Yes   </td></tr>\n",
       "\t<tr><td>11.22 </td><td>111   </td><td> 48   </td><td>16    </td><td>260   </td><td> 83   </td><td>Good  </td><td>65    </td><td>10    </td><td>Yes   </td><td>Yes   </td></tr>\n",
       "\t<tr><td>10.06 </td><td>113   </td><td> 35   </td><td>10    </td><td>269   </td><td> 80   </td><td>Medium</td><td>59    </td><td>12    </td><td>Yes   </td><td>Yes   </td></tr>\n",
       "\t<tr><td> 7.40 </td><td>117   </td><td>100   </td><td> 4    </td><td>466   </td><td> 97   </td><td>Medium</td><td>55    </td><td>14    </td><td>Yes   </td><td>Yes   </td></tr>\n",
       "\t<tr><td> 4.15 </td><td>141   </td><td> 64   </td><td> 3    </td><td>340   </td><td>128   </td><td>Bad   </td><td>38    </td><td>13    </td><td>Yes   </td><td>No    </td></tr>\n",
       "\t<tr><td>10.81 </td><td>124   </td><td>113   </td><td>13    </td><td>501   </td><td> 72   </td><td>Bad   </td><td>78    </td><td>16    </td><td>No    </td><td>Yes   </td></tr>\n",
       "</tbody>\n",
       "</table>\n"
      ],
      "text/latex": [
       "\\begin{tabular}{r|lllllllllll}\n",
       " Sales & CompPrice & Income & Advertising & Population & Price & ShelveLoc & Age & Education & Urban & US\\\\\n",
       "\\hline\n",
       "\t  9.50  & 138    &  73    & 11     & 276    & 120    & Bad    & 42     & 17     & Yes    & Yes   \\\\\n",
       "\t 11.22  & 111    &  48    & 16     & 260    &  83    & Good   & 65     & 10     & Yes    & Yes   \\\\\n",
       "\t 10.06  & 113    &  35    & 10     & 269    &  80    & Medium & 59     & 12     & Yes    & Yes   \\\\\n",
       "\t  7.40  & 117    & 100    &  4     & 466    &  97    & Medium & 55     & 14     & Yes    & Yes   \\\\\n",
       "\t  4.15  & 141    &  64    &  3     & 340    & 128    & Bad    & 38     & 13     & Yes    & No    \\\\\n",
       "\t 10.81  & 124    & 113    & 13     & 501    &  72    & Bad    & 78     & 16     & No     & Yes   \\\\\n",
       "\\end{tabular}\n"
      ],
      "text/markdown": [
       "\n",
       "Sales | CompPrice | Income | Advertising | Population | Price | ShelveLoc | Age | Education | Urban | US | \n",
       "|---|---|---|---|---|---|\n",
       "|  9.50  | 138    |  73    | 11     | 276    | 120    | Bad    | 42     | 17     | Yes    | Yes    | \n",
       "| 11.22  | 111    |  48    | 16     | 260    |  83    | Good   | 65     | 10     | Yes    | Yes    | \n",
       "| 10.06  | 113    |  35    | 10     | 269    |  80    | Medium | 59     | 12     | Yes    | Yes    | \n",
       "|  7.40  | 117    | 100    |  4     | 466    |  97    | Medium | 55     | 14     | Yes    | Yes    | \n",
       "|  4.15  | 141    |  64    |  3     | 340    | 128    | Bad    | 38     | 13     | Yes    | No     | \n",
       "| 10.81  | 124    | 113    | 13     | 501    |  72    | Bad    | 78     | 16     | No     | Yes    | \n",
       "\n",
       "\n"
      ],
      "text/plain": [
       "  Sales CompPrice Income Advertising Population Price ShelveLoc Age Education\n",
       "1  9.50 138        73    11          276        120   Bad       42  17       \n",
       "2 11.22 111        48    16          260         83   Good      65  10       \n",
       "3 10.06 113        35    10          269         80   Medium    59  12       \n",
       "4  7.40 117       100     4          466         97   Medium    55  14       \n",
       "5  4.15 141        64     3          340        128   Bad       38  13       \n",
       "6 10.81 124       113    13          501         72   Bad       78  16       \n",
       "  Urban US \n",
       "1 Yes   Yes\n",
       "2 Yes   Yes\n",
       "3 Yes   Yes\n",
       "4 Yes   Yes\n",
       "5 Yes   No \n",
       "6 No    Yes"
      ]
     },
     "metadata": {},
     "output_type": "display_data"
    }
   ],
   "source": [
    "head(Carseats)"
   ]
  },
  {
   "cell_type": "code",
   "execution_count": 54,
   "metadata": {},
   "outputs": [
    {
     "data": {
      "text/html": [
       "<ol class=list-inline>\n",
       "\t<li>'Sales'</li>\n",
       "\t<li>'CompPrice'</li>\n",
       "\t<li>'Income'</li>\n",
       "\t<li>'Advertising'</li>\n",
       "\t<li>'Population'</li>\n",
       "\t<li>'Price'</li>\n",
       "\t<li>'ShelveLoc'</li>\n",
       "\t<li>'Age'</li>\n",
       "\t<li>'Education'</li>\n",
       "\t<li>'Urban'</li>\n",
       "\t<li>'US'</li>\n",
       "</ol>\n"
      ],
      "text/latex": [
       "\\begin{enumerate*}\n",
       "\\item 'Sales'\n",
       "\\item 'CompPrice'\n",
       "\\item 'Income'\n",
       "\\item 'Advertising'\n",
       "\\item 'Population'\n",
       "\\item 'Price'\n",
       "\\item 'ShelveLoc'\n",
       "\\item 'Age'\n",
       "\\item 'Education'\n",
       "\\item 'Urban'\n",
       "\\item 'US'\n",
       "\\end{enumerate*}\n"
      ],
      "text/markdown": [
       "1. 'Sales'\n",
       "2. 'CompPrice'\n",
       "3. 'Income'\n",
       "4. 'Advertising'\n",
       "5. 'Population'\n",
       "6. 'Price'\n",
       "7. 'ShelveLoc'\n",
       "8. 'Age'\n",
       "9. 'Education'\n",
       "10. 'Urban'\n",
       "11. 'US'\n",
       "\n",
       "\n"
      ],
      "text/plain": [
       " [1] \"Sales\"       \"CompPrice\"   \"Income\"      \"Advertising\" \"Population\" \n",
       " [6] \"Price\"       \"ShelveLoc\"   \"Age\"         \"Education\"   \"Urban\"      \n",
       "[11] \"US\"         "
      ]
     },
     "metadata": {},
     "output_type": "display_data"
    }
   ],
   "source": [
    "names(Carseats)"
   ]
  },
  {
   "cell_type": "code",
   "execution_count": 55,
   "metadata": {},
   "outputs": [
    {
     "data": {
      "text/plain": [
       "     Sales          CompPrice       Income        Advertising    \n",
       " Min.   : 0.000   Min.   : 77   Min.   : 21.00   Min.   : 0.000  \n",
       " 1st Qu.: 5.390   1st Qu.:115   1st Qu.: 42.75   1st Qu.: 0.000  \n",
       " Median : 7.490   Median :125   Median : 69.00   Median : 5.000  \n",
       " Mean   : 7.496   Mean   :125   Mean   : 68.66   Mean   : 6.635  \n",
       " 3rd Qu.: 9.320   3rd Qu.:135   3rd Qu.: 91.00   3rd Qu.:12.000  \n",
       " Max.   :16.270   Max.   :175   Max.   :120.00   Max.   :29.000  \n",
       "   Population        Price        ShelveLoc        Age          Education   \n",
       " Min.   : 10.0   Min.   : 24.0   Bad   : 96   Min.   :25.00   Min.   :10.0  \n",
       " 1st Qu.:139.0   1st Qu.:100.0   Good  : 85   1st Qu.:39.75   1st Qu.:12.0  \n",
       " Median :272.0   Median :117.0   Medium:219   Median :54.50   Median :14.0  \n",
       " Mean   :264.8   Mean   :115.8                Mean   :53.32   Mean   :13.9  \n",
       " 3rd Qu.:398.5   3rd Qu.:131.0                3rd Qu.:66.00   3rd Qu.:16.0  \n",
       " Max.   :509.0   Max.   :191.0                Max.   :80.00   Max.   :18.0  \n",
       " Urban       US     \n",
       " No :118   No :142  \n",
       " Yes:282   Yes:258  \n",
       "                    \n",
       "                    \n",
       "                    \n",
       "                    "
      ]
     },
     "metadata": {},
     "output_type": "display_data"
    }
   ],
   "source": [
    "summary(Carseats)"
   ]
  },
  {
   "cell_type": "code",
   "execution_count": 56,
   "metadata": {},
   "outputs": [
    {
     "data": {
      "text/plain": [
       "\n",
       "Call:\n",
       "lm(formula = Sales ~ . + Income:Advertising + Age:Price, data = Carseats)\n",
       "\n",
       "Residuals:\n",
       "    Min      1Q  Median      3Q     Max \n",
       "-2.9208 -0.7503  0.0177  0.6754  3.3413 \n",
       "\n",
       "Coefficients:\n",
       "                     Estimate Std. Error t value Pr(>|t|)    \n",
       "(Intercept)         6.5755654  1.0087470   6.519 2.22e-10 ***\n",
       "CompPrice           0.0929371  0.0041183  22.567  < 2e-16 ***\n",
       "Income              0.0108940  0.0026044   4.183 3.57e-05 ***\n",
       "Advertising         0.0702462  0.0226091   3.107 0.002030 ** \n",
       "Population          0.0001592  0.0003679   0.433 0.665330    \n",
       "Price              -0.1008064  0.0074399 -13.549  < 2e-16 ***\n",
       "ShelveLocGood       4.8486762  0.1528378  31.724  < 2e-16 ***\n",
       "ShelveLocMedium     1.9532620  0.1257682  15.531  < 2e-16 ***\n",
       "Age                -0.0579466  0.0159506  -3.633 0.000318 ***\n",
       "Education          -0.0208525  0.0196131  -1.063 0.288361    \n",
       "UrbanYes            0.1401597  0.1124019   1.247 0.213171    \n",
       "USYes              -0.1575571  0.1489234  -1.058 0.290729    \n",
       "Income:Advertising  0.0007510  0.0002784   2.698 0.007290 ** \n",
       "Price:Age           0.0001068  0.0001333   0.801 0.423812    \n",
       "---\n",
       "Signif. codes:  0 '***' 0.001 '**' 0.01 '*' 0.05 '.' 0.1 ' ' 1\n",
       "\n",
       "Residual standard error: 1.011 on 386 degrees of freedom\n",
       "Multiple R-squared:  0.8761,\tAdjusted R-squared:  0.8719 \n",
       "F-statistic:   210 on 13 and 386 DF,  p-value: < 2.2e-16\n"
      ]
     },
     "metadata": {},
     "output_type": "display_data"
    }
   ],
   "source": [
    "fit1=lm(Sales~.+Income:Advertising+Age:Price,Carseats)\n",
    "summary(fit1)"
   ]
  },
  {
   "cell_type": "code",
   "execution_count": 57,
   "metadata": {},
   "outputs": [
    {
     "data": {
      "text/html": [
       "<table>\n",
       "<thead><tr><th></th><th scope=col>Good</th><th scope=col>Medium</th></tr></thead>\n",
       "<tbody>\n",
       "\t<tr><th scope=row>Bad</th><td>0</td><td>0</td></tr>\n",
       "\t<tr><th scope=row>Good</th><td>1</td><td>0</td></tr>\n",
       "\t<tr><th scope=row>Medium</th><td>0</td><td>1</td></tr>\n",
       "</tbody>\n",
       "</table>\n"
      ],
      "text/latex": [
       "\\begin{tabular}{r|ll}\n",
       "  & Good & Medium\\\\\n",
       "\\hline\n",
       "\tBad & 0 & 0\\\\\n",
       "\tGood & 1 & 0\\\\\n",
       "\tMedium & 0 & 1\\\\\n",
       "\\end{tabular}\n"
      ],
      "text/markdown": [
       "\n",
       "| <!--/--> | Good | Medium | \n",
       "|---|---|---|\n",
       "| Bad | 0 | 0 | \n",
       "| Good | 1 | 0 | \n",
       "| Medium | 0 | 1 | \n",
       "\n",
       "\n"
      ],
      "text/plain": [
       "       Good Medium\n",
       "Bad    0    0     \n",
       "Good   1    0     \n",
       "Medium 0    1     "
      ]
     },
     "metadata": {},
     "output_type": "display_data"
    }
   ],
   "source": [
    "contrasts(Carseats$ShelveLoc)"
   ]
  },
  {
   "cell_type": "markdown",
   "metadata": {},
   "source": [
    "# Writing R functions"
   ]
  },
  {
   "cell_type": "code",
   "execution_count": 58,
   "metadata": {},
   "outputs": [],
   "source": [
    "regplot=function(x,y){\n",
    "  fit=lm(y~x)\n",
    "  plot(x,y)\n",
    "  abline(fit,col=\"red\")\n",
    "}"
   ]
  },
  {
   "cell_type": "code",
   "execution_count": 59,
   "metadata": {},
   "outputs": [],
   "source": [
    "attach(Carseats)"
   ]
  },
  {
   "cell_type": "code",
   "execution_count": 60,
   "metadata": {},
   "outputs": [
    {
     "data": {
      "image/png": "[encoded data removed]"
     },
     "metadata": {},
     "output_type": "display_data"
    }
   ],
   "source": [
    "regplot(Price,Sales)"
   ]
  },
  {
   "cell_type": "code",
   "execution_count": 61,
   "metadata": {},
   "outputs": [],
   "source": [
    "regplot=function(x,y,...){\n",
    "  fit=lm(y~x)\n",
    "  plot(x,y,...)\n",
    "  abline(fit,col=\"red\")\n",
    "}"
   ]
  },
  {
   "cell_type": "code",
   "execution_count": 62,
   "metadata": {},
   "outputs": [
    {
     "data": {
      "image/png": "[encoded data removed]"
     },
     "metadata": {},
     "output_type": "display_data"
    }
   ],
   "source": [
    "regplot(Price,Sales,xlab=\"Price\",ylab=\"Sales\",col=\"blue\",pch=20)"
   ]
  }
 ],
 "metadata": {
  "anaconda-cloud": {},
  "kernelspec": {
   "display_name": "R",
   "language": "R",
   "name": "ir"
  },
  "language_info": {
   "codemirror_mode": "r",
   "file_extension": ".r",
   "mimetype": "text/x-r-source",
   "name": "R",
   "pygments_lexer": "r",
   "version": "3.3.1"
  }
 },
 "nbformat": 4,
 "nbformat_minor": 2
}
